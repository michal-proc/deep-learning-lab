{
 "cells": [
  {
   "metadata": {},
   "cell_type": "markdown",
   "source": "# Getting started with DNN 2",
   "id": "d1f18d19e631c98c"
  }
 ],
 "metadata": {
  "colab": {
   "provenance": []
  },
  "language_info": {
   "name": "python"
  },
  "kernelspec": {
   "name": "python3",
   "display_name": "Python 3"
  }
 },
 "nbformat": 4,
 "nbformat_minor": 5
}
