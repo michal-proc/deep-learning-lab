{
  "cells": [
    {
      "cell_type": "markdown",
      "metadata": {
        "id": "view-in-github",
        "colab_type": "text"
      },
      "source": [
        "<a href=\"https://colab.research.google.com/github/michal-proc/deep-learning-lab/blob/master/lab1/start-dnn.ipynb\" target=\"_parent\"><img src=\"https://colab.research.google.com/assets/colab-badge.svg\" alt=\"Open In Colab\"/></a>"
      ]
    },
    {
      "metadata": {
        "id": "90af995f6c49f7d0"
      },
      "cell_type": "markdown",
      "source": [
        "# Getting Started with DNN\n",
        "\n",
        "Before we move to a more sophisticated ex. we will get familiar with Tensorflow and Keras. We will take a look at a first concrete example of a neural network, which makes use of the Python library Keras to learn to classify handwritten digits. The problem we are trying to solve here is to classify grayscale images of handwritten digits (28 pixels by 28 pixels), into their 10 categories (0 to 9). The dataset we will use is the MNIST dataset. It's a set of 60,000 training images, plus 10,000 test images, assembled by the National Institute of Standards and Technology (the NIST in MNIST) in the 1980s. You can think of “solving” MNIST as the “Hello World” of deep learning – it's what you do to verify that your algorithms are working as expected.\n",
        "\n",
        "Firstly, we will import Keras and dataset. The MNIST dataset comes pre-loaded in Keras, in the form of a set of four Numpy arrays:"
      ],
      "id": "90af995f6c49f7d0"
    },
    {
      "cell_type": "code",
      "source": [
        "from tensorflow import keras\n",
        "import numpy as np\n",
        "import matplotlib.pyplot as plt"
      ],
      "metadata": {
        "id": "si-5t9tbDpF2"
      },
      "id": "si-5t9tbDpF2",
      "execution_count": 5,
      "outputs": []
    },
    {
      "cell_type": "code",
      "source": [
        "from keras.datasets import mnist\n",
        "\n",
        "(train_images, train_labels), (test_images, test_labels) = mnist.load_data()"
      ],
      "metadata": {
        "id": "HSvCp4HbCluS",
        "outputId": "0625e724-93e9-4e7b-f23e-03babd7df8a7",
        "colab": {
          "base_uri": "https://localhost:8080/"
        }
      },
      "id": "HSvCp4HbCluS",
      "execution_count": 4,
      "outputs": [
        {
          "output_type": "stream",
          "name": "stdout",
          "text": [
            "Downloading data from https://storage.googleapis.com/tensorflow/tf-keras-datasets/mnist.npz\n",
            "\u001b[1m11490434/11490434\u001b[0m \u001b[32m━━━━━━━━━━━━━━━━━━━━\u001b[0m\u001b[37m\u001b[0m \u001b[1m1s\u001b[0m 0us/step\n"
          ]
        }
      ]
    },
    {
      "cell_type": "markdown",
      "source": [
        "**Task 1** Please check the number of training and testing example.\n",
        "\n",
        "**Task 2** How many labels do we have?\n",
        "\n",
        "**Task 3** Check the image size and plot few examples"
      ],
      "metadata": {
        "id": "u01kJZhND41z"
      },
      "id": "u01kJZhND41z"
    },
    {
      "cell_type": "code",
      "source": [
        "print(\"Number of training examples:\", train_images.shape[0])\n",
        "print(\"Number of testing examples:\", test_images.shape[0])\n",
        "\n",
        "unique_labels = np.unique(train_labels)\n",
        "print(\"Number of unique labels:\", len(unique_labels))"
      ],
      "metadata": {
        "id": "Pj9IaI3ADR1g",
        "outputId": "b0de3e11-90df-4656-a5e3-807624c4c157",
        "colab": {
          "base_uri": "https://localhost:8080/"
        }
      },
      "id": "Pj9IaI3ADR1g",
      "execution_count": 7,
      "outputs": [
        {
          "output_type": "stream",
          "name": "stdout",
          "text": [
            "Number of training examples: 60000\n",
            "Number of testing examples: 10000\n",
            "Number of unique labels: 10\n"
          ]
        }
      ]
    },
    {
      "cell_type": "code",
      "source": [
        "import matplotlib.pyplot as plt\n",
        "\n",
        "print(\"Image shape:\", train_images[0].shape)\n",
        "\n",
        "plt.figure(figsize=(10, 2))\n",
        "for i in range(5):\n",
        "    plt.subplot(1, 5, i + 1)\n",
        "    plt.imshow(train_images[i], cmap='gray')\n",
        "    plt.title(f\"Label: {train_labels[i]}\")\n",
        "    plt.axis('off')\n",
        "plt.show()"
      ],
      "metadata": {
        "id": "4uRPPYBVDk3f",
        "outputId": "0f5eb5b4-90ae-40d8-dce7-6cc8eed3893e",
        "colab": {
          "base_uri": "https://localhost:8080/",
          "height": 206
        }
      },
      "id": "4uRPPYBVDk3f",
      "execution_count": 8,
      "outputs": [
        {
          "output_type": "stream",
          "name": "stdout",
          "text": [
            "Image shape: (28, 28)\n"
          ]
        },
        {
          "output_type": "display_data",
          "data": {
            "text/plain": [
              "<Figure size 1000x200 with 5 Axes>"
            ],
            "image/png": "[encoded data removed]"
          },
          "metadata": {}
        }
      ]
    }
  ],
  "metadata": {
    "colab": {
      "provenance": [],
      "include_colab_link": true
    },
    "language_info": {
      "name": "python"
    },
    "kernelspec": {
      "name": "python3",
      "display_name": "Python 3"
    }
  },
  "nbformat": 4,
  "nbformat_minor": 5
}