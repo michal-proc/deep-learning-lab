{
 "cells": [
  {
   "metadata": {},
   "cell_type": "markdown",
   "source": [
    "# Getting Started with DNN\n",
    "\n",
    "Before we move to a more sophisticated ex. we will get familiar with Tensorflow and Keras. We will take a look at a first concrete example of a neural network, which makes use of the Python library Keras to learn to classify handwritten digits. The problem we are trying to solve here is to classify grayscale images of handwritten digits (28 pixels by 28 pixels), into their 10 categories (0 to 9). The dataset we will use is the MNIST dataset. It's a set of 60,000 training images, plus 10,000 test images, assembled by the National Institute of Standards and Technology (the NIST in MNIST) in the 1980s. You can think of “solving” MNIST as the “Hello World” of deep learning – it's what you do to verify that your algorithms are working as expected.\n",
    "\n",
    "Firstly, we will import Keras (based on the Python/Tensorflow version):"
   ],
   "id": "90af995f6c49f7d0"
  }
 ],
 "metadata": {},
 "nbformat": 4,
 "nbformat_minor": 5
}
